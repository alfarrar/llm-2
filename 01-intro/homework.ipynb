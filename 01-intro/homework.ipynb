{
 "cells": [
  {
   "cell_type": "code",
   "execution_count": 1,
   "id": "d69321aa-ed5e-457b-8c0f-57f80ff81f2a",
   "metadata": {},
   "outputs": [],
   "source": [
    "import openai"
   ]
  },
  {
   "cell_type": "code",
   "execution_count": 2,
   "id": "c67c29bb-f7b1-4513-a4a0-469e376b838c",
   "metadata": {},
   "outputs": [],
   "source": [
    "from openai import OpenAI"
   ]
  },
  {
   "cell_type": "code",
   "execution_count": 3,
   "id": "8c4f8a04-d267-44d4-8ba7-e40c7385949c",
   "metadata": {},
   "outputs": [],
   "source": [
    "client = OpenAI()"
   ]
  },
  {
   "cell_type": "code",
   "execution_count": 4,
   "id": "97b51254-4ac4-40ad-ae43-5c764ae0b9b8",
   "metadata": {},
   "outputs": [],
   "source": [
    "import os"
   ]
  },
  {
   "cell_type": "code",
   "execution_count": 12,
   "id": "c24606e5-7352-4f87-bbaf-dbb35ff7c181",
   "metadata": {},
   "outputs": [],
   "source": [
    "response = client.chat.completions.create(\n",
    "    model='gpt-4o', \n",
    "    messages=[{\"role\": \"user\",\"content\": \"is it too late to join the course\"}]\n",
    ")\n",
    "\n"
   ]
  },
  {
   "cell_type": "code",
   "execution_count": 14,
   "id": "ebce9d5d-1b4e-46f6-9870-404a75507506",
   "metadata": {},
   "outputs": [
    {
     "data": {
      "text/plain": [
       "\"I'm sorry, but I would need more information to provide a specific answer. Courses can vary widely in their enrollment periods and schedules. Here are a few general steps you can take to find out if it's too late to join a specific course:\\n\\n1. **Check the Course Website**: Most courses will have detailed information about enrollment deadlines on their official website.\\n\\n2. **Contact the Course Provider**: Reach out directly to the institution or organization offering the course. They can provide the most accurate information about enrollment deadlines.\\n\\n3. **Look for Enrollment Options**: Some courses offer late enrollment or rolling admissions, allowing you to join after the typical start date.\\n\\n4. **Consider Future Offerings**: If it's too late for the current session, inquire about when the course will be offered again.\\n\\nIf you share more details about the specific course you’re interested in, I may be able to offer more precise advice.\""
      ]
     },
     "execution_count": 14,
     "metadata": {},
     "output_type": "execute_result"
    }
   ],
   "source": [
    "response.choices[0].message.content"
   ]
  }
 ],
 "metadata": {
  "kernelspec": {
   "display_name": "Python 3 (ipykernel)",
   "language": "python",
   "name": "python3"
  },
  "language_info": {
   "codemirror_mode": {
    "name": "ipython",
    "version": 3
   },
   "file_extension": ".py",
   "mimetype": "text/x-python",
   "name": "python",
   "nbconvert_exporter": "python",
   "pygments_lexer": "ipython3",
   "version": "3.12.1"
  }
 },
 "nbformat": 4,
 "nbformat_minor": 5
}
